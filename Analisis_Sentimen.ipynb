{
  "nbformat": 4,
  "nbformat_minor": 0,
  "metadata": {
    "colab": {
      "provenance": [],
      "authorship_tag": "ABX9TyPZvIg2eEHRNMk7Kg9kHIlM",
      "include_colab_link": true
    },
    "kernelspec": {
      "name": "python3",
      "display_name": "Python 3"
    },
    "language_info": {
      "name": "python"
    }
  },
  "cells": [
    {
      "cell_type": "markdown",
      "metadata": {
        "id": "view-in-github",
        "colab_type": "text"
      },
      "source": [
        "<a href=\"https://colab.research.google.com/github/Igprad01/Sentimen-Analisis/blob/main/Analisis_Sentimen.ipynb\" target=\"_parent\"><img src=\"https://colab.research.google.com/assets/colab-badge.svg\" alt=\"Open In Colab\"/></a>"
      ]
    },
    {
      "cell_type": "code",
      "execution_count": null,
      "metadata": {
        "id": "-dEwphwAU-0g"
      },
      "outputs": [],
      "source": [
        "#import library\n",
        "import pandas as pd\n",
        "import numpy as np\n",
        "import matplotlib.pyplot as plt\n",
        "import seaborn as sns\n",
        "import nltk as nltk\n",
        "import csv"
      ]
    },
    {
      "cell_type": "code",
      "source": [
        "# import file csv\n",
        "with open('') as csv_file:\n",
        "    csv_reader = csv.reader(csv_file, delimiter=',')"
      ],
      "metadata": {
        "id": "pt84hYt-LBvW"
      },
      "execution_count": null,
      "outputs": []
    },
    {
      "cell_type": "code",
      "source": [
        "# open data csv\n",
        "data = pd.read_csv('')\n",
        "data.head"
      ],
      "metadata": {
        "id": "yVHLzSqOLz3-"
      },
      "execution_count": null,
      "outputs": []
    },
    {
      "cell_type": "code",
      "source": [
        "# cleaning data nya nanti disini\n"
      ],
      "metadata": {
        "id": "o_Nt90HeL8ZN"
      },
      "execution_count": null,
      "outputs": []
    },
    {
      "cell_type": "code",
      "source": [
        "#test commit"
      ],
      "metadata": {
        "id": "o5VLR9o_Vrmx"
      },
      "execution_count": null,
      "outputs": []
    }
  ]
}