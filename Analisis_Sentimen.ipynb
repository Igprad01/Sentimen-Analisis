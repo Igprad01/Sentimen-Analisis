{
  "cells": [
    {
      "cell_type": "markdown",
      "metadata": {
        "id": "view-in-github",
        "colab_type": "text"
      },
      "source": [
        "<a href=\"https://colab.research.google.com/github/Igprad01/Sentimen-Analisis/blob/main/Analisis_Sentimen.ipynb\" target=\"_parent\"><img src=\"https://colab.research.google.com/assets/colab-badge.svg\" alt=\"Open In Colab\"/></a>"
      ]
    },
    {
      "cell_type": "markdown",
      "metadata": {
        "id": "YaeeLuqgVIC9"
      },
      "source": [
        "ANALISIS SENTIMEN CASE STUDY OPINI PUBLIK TWITTER"
      ]
    },
    {
      "cell_type": "code",
      "source": [
        "#install library\n",
        "!pip install Sastrawi\n",
        "!pip install nltk\n",
        "!pip install -U scikit-learn"
      ],
      "metadata": {
        "colab": {
          "base_uri": "https://localhost:8080/"
        },
        "id": "4ha3YPhbLSoJ",
        "outputId": "881ac0ee-dccc-4fea-ac29-676b8ad4b750"
      },
      "execution_count": 17,
      "outputs": [
        {
          "output_type": "stream",
          "name": "stdout",
          "text": [
            "Requirement already satisfied: Sastrawi in /usr/local/lib/python3.11/dist-packages (1.0.1)\n",
            "Requirement already satisfied: nltk in /usr/local/lib/python3.11/dist-packages (3.9.1)\n",
            "Requirement already satisfied: click in /usr/local/lib/python3.11/dist-packages (from nltk) (8.1.8)\n",
            "Requirement already satisfied: joblib in /usr/local/lib/python3.11/dist-packages (from nltk) (1.4.2)\n",
            "Requirement already satisfied: regex>=2021.8.3 in /usr/local/lib/python3.11/dist-packages (from nltk) (2024.11.6)\n",
            "Requirement already satisfied: tqdm in /usr/local/lib/python3.11/dist-packages (from nltk) (4.67.1)\n",
            "Requirement already satisfied: scikit-learn in /usr/local/lib/python3.11/dist-packages (1.6.1)\n",
            "Requirement already satisfied: numpy>=1.19.5 in /usr/local/lib/python3.11/dist-packages (from scikit-learn) (2.0.2)\n",
            "Requirement already satisfied: scipy>=1.6.0 in /usr/local/lib/python3.11/dist-packages (from scikit-learn) (1.14.1)\n",
            "Requirement already satisfied: joblib>=1.2.0 in /usr/local/lib/python3.11/dist-packages (from scikit-learn) (1.4.2)\n",
            "Requirement already satisfied: threadpoolctl>=3.1.0 in /usr/local/lib/python3.11/dist-packages (from scikit-learn) (3.6.0)\n"
          ]
        }
      ]
    },
    {
      "cell_type": "code",
      "execution_count": 19,
      "metadata": {
        "id": "-dEwphwAU-0g"
      },
      "outputs": [],
      "source": [
        "#import library\n",
        "import pandas as pd\n",
        "import numpy as np\n",
        "import matplotlib.pyplot as plt\n",
        "import seaborn as sns\n",
        "import nltk as nltk\n",
        "import csv\n",
        "import re\n",
        "from nltk.tokenize import word_tokenize\n",
        "from nltk.corpus import stopwords\n",
        "from Sastrawi.Stemmer.StemmerFactory import StemmerFactory\n",
        "from sklearn.feature_extraction.text import TfidfVectorizer\n",
        "from sklearn.svm import SVC\n",
        "from sklearn.model_selection import train_test_split\n",
        "from sklearn.metrics import accuracy_score, classification_report"
      ]
    },
    {
      "cell_type": "markdown",
      "metadata": {
        "id": "28dVOTiklFDI"
      },
      "source": []
    },
    {
      "cell_type": "markdown",
      "metadata": {
        "id": "8D-_3CZhjRoF"
      },
      "source": []
    },
    {
      "cell_type": "markdown",
      "metadata": {
        "id": "LAeXI6UoRp_x"
      },
      "source": [
        "INPUT DATA SET"
      ]
    },
    {
      "cell_type": "code",
      "execution_count": 20,
      "metadata": {
        "colab": {
          "base_uri": "https://localhost:8080/",
          "height": 487
        },
        "id": "32HsFFV064A9",
        "outputId": "37c3e8df-faab-408a-f8ae-f24c0ee81450"
      },
      "outputs": [
        {
          "output_type": "execute_result",
          "data": {
            "text/plain": [
              "   conversation_id_str                      created_at  favorite_count  \\\n",
              "0         1.873810e+18  Mon Dec 30 18:55:01 +0000 2024               0   \n",
              "1         1.873640e+18  Mon Dec 30 17:47:27 +0000 2024               0   \n",
              "2         1.873760e+18  Mon Dec 30 15:52:30 +0000 2024               0   \n",
              "3         1.873630e+18  Mon Dec 30 15:25:31 +0000 2024               1   \n",
              "4         1.873630e+18  Mon Dec 30 15:07:03 +0000 2024               0   \n",
              "\n",
              "                                           full_text        id_str  \\\n",
              "0  Om JOT Liat deh Si up girls ngajak @RFritzy_JK...  1.873810e+18   \n",
              "1  @RFritzy_JKT48 Kalo oshinya JOT masih ga apa a...  1.873790e+18   \n",
              "2  harapan untuk jkt48 yaitu membuat para jot sad...  1.873760e+18   \n",
              "3  @_rybh @Maffi_f07 @Auwia_JKT48 Itu urusan inte...  1.873750e+18   \n",
              "4  @gagitugie___ @Maffi_f07 @Auwia_JKT48 Menunjuk...  1.873750e+18   \n",
              "\n",
              "                                         image_url in_reply_to_screen_name  \\\n",
              "0                                              NaN                     NaN   \n",
              "1  https://pbs.twimg.com/media/GgEIPq1bYAExxgW.jpg           RFritzy_JKT48   \n",
              "2                                              NaN                     NaN   \n",
              "3                                              NaN                   _rybh   \n",
              "4                                              NaN            gagitugie___   \n",
              "\n",
              "  lang                location  quote_count  reply_count  retweet_count  \\\n",
              "0   in                     NaN            0            0              0   \n",
              "1   in  DKI Jakarta, Indonesia            0            0              0   \n",
              "2   in                     NaN            0            0              0   \n",
              "3   in            Salakanagara            0            1              0   \n",
              "4   in                     NaN            0            1              0   \n",
              "\n",
              "                                           tweet_url   user_id_str  \\\n",
              "0  https://x.com/XJulianto/status/187380500346035...  1.818490e+18   \n",
              "1  https://x.com/Anggithaadr/status/1873788000431...  8.198810e+17   \n",
              "2  https://x.com/blq_abilzz/status/18737590745775...  1.786020e+18   \n",
              "3  https://x.com/gagitugie___/status/187375228321...  2.429397e+09   \n",
              "4     https://x.com/_rybh/status/1873747635750011333  3.181792e+09   \n",
              "\n",
              "       username  \n",
              "0     XJulianto  \n",
              "1   Anggithaadr  \n",
              "2    blq_abilzz  \n",
              "3  gagitugie___  \n",
              "4         _rybh  "
            ],
            "text/html": [
              "\n",
              "  <div id=\"df-6f69a589-36e4-4582-8049-f4b90bfa1359\" class=\"colab-df-container\">\n",
              "    <div>\n",
              "<style scoped>\n",
              "    .dataframe tbody tr th:only-of-type {\n",
              "        vertical-align: middle;\n",
              "    }\n",
              "\n",
              "    .dataframe tbody tr th {\n",
              "        vertical-align: top;\n",
              "    }\n",
              "\n",
              "    .dataframe thead th {\n",
              "        text-align: right;\n",
              "    }\n",
              "</style>\n",
              "<table border=\"1\" class=\"dataframe\">\n",
              "  <thead>\n",
              "    <tr style=\"text-align: right;\">\n",
              "      <th></th>\n",
              "      <th>conversation_id_str</th>\n",
              "      <th>created_at</th>\n",
              "      <th>favorite_count</th>\n",
              "      <th>full_text</th>\n",
              "      <th>id_str</th>\n",
              "      <th>image_url</th>\n",
              "      <th>in_reply_to_screen_name</th>\n",
              "      <th>lang</th>\n",
              "      <th>location</th>\n",
              "      <th>quote_count</th>\n",
              "      <th>reply_count</th>\n",
              "      <th>retweet_count</th>\n",
              "      <th>tweet_url</th>\n",
              "      <th>user_id_str</th>\n",
              "      <th>username</th>\n",
              "    </tr>\n",
              "  </thead>\n",
              "  <tbody>\n",
              "    <tr>\n",
              "      <th>0</th>\n",
              "      <td>1.873810e+18</td>\n",
              "      <td>Mon Dec 30 18:55:01 +0000 2024</td>\n",
              "      <td>0</td>\n",
              "      <td>Om JOT Liat deh Si up girls ngajak @RFritzy_JK...</td>\n",
              "      <td>1.873810e+18</td>\n",
              "      <td>NaN</td>\n",
              "      <td>NaN</td>\n",
              "      <td>in</td>\n",
              "      <td>NaN</td>\n",
              "      <td>0</td>\n",
              "      <td>0</td>\n",
              "      <td>0</td>\n",
              "      <td>https://x.com/XJulianto/status/187380500346035...</td>\n",
              "      <td>1.818490e+18</td>\n",
              "      <td>XJulianto</td>\n",
              "    </tr>\n",
              "    <tr>\n",
              "      <th>1</th>\n",
              "      <td>1.873640e+18</td>\n",
              "      <td>Mon Dec 30 17:47:27 +0000 2024</td>\n",
              "      <td>0</td>\n",
              "      <td>@RFritzy_JKT48 Kalo oshinya JOT masih ga apa a...</td>\n",
              "      <td>1.873790e+18</td>\n",
              "      <td>https://pbs.twimg.com/media/GgEIPq1bYAExxgW.jpg</td>\n",
              "      <td>RFritzy_JKT48</td>\n",
              "      <td>in</td>\n",
              "      <td>DKI Jakarta, Indonesia</td>\n",
              "      <td>0</td>\n",
              "      <td>0</td>\n",
              "      <td>0</td>\n",
              "      <td>https://x.com/Anggithaadr/status/1873788000431...</td>\n",
              "      <td>8.198810e+17</td>\n",
              "      <td>Anggithaadr</td>\n",
              "    </tr>\n",
              "    <tr>\n",
              "      <th>2</th>\n",
              "      <td>1.873760e+18</td>\n",
              "      <td>Mon Dec 30 15:52:30 +0000 2024</td>\n",
              "      <td>0</td>\n",
              "      <td>harapan untuk jkt48 yaitu membuat para jot sad...</td>\n",
              "      <td>1.873760e+18</td>\n",
              "      <td>NaN</td>\n",
              "      <td>NaN</td>\n",
              "      <td>in</td>\n",
              "      <td>NaN</td>\n",
              "      <td>0</td>\n",
              "      <td>0</td>\n",
              "      <td>0</td>\n",
              "      <td>https://x.com/blq_abilzz/status/18737590745775...</td>\n",
              "      <td>1.786020e+18</td>\n",
              "      <td>blq_abilzz</td>\n",
              "    </tr>\n",
              "    <tr>\n",
              "      <th>3</th>\n",
              "      <td>1.873630e+18</td>\n",
              "      <td>Mon Dec 30 15:25:31 +0000 2024</td>\n",
              "      <td>1</td>\n",
              "      <td>@_rybh @Maffi_f07 @Auwia_JKT48 Itu urusan inte...</td>\n",
              "      <td>1.873750e+18</td>\n",
              "      <td>NaN</td>\n",
              "      <td>_rybh</td>\n",
              "      <td>in</td>\n",
              "      <td>Salakanagara</td>\n",
              "      <td>0</td>\n",
              "      <td>1</td>\n",
              "      <td>0</td>\n",
              "      <td>https://x.com/gagitugie___/status/187375228321...</td>\n",
              "      <td>2.429397e+09</td>\n",
              "      <td>gagitugie___</td>\n",
              "    </tr>\n",
              "    <tr>\n",
              "      <th>4</th>\n",
              "      <td>1.873630e+18</td>\n",
              "      <td>Mon Dec 30 15:07:03 +0000 2024</td>\n",
              "      <td>0</td>\n",
              "      <td>@gagitugie___ @Maffi_f07 @Auwia_JKT48 Menunjuk...</td>\n",
              "      <td>1.873750e+18</td>\n",
              "      <td>NaN</td>\n",
              "      <td>gagitugie___</td>\n",
              "      <td>in</td>\n",
              "      <td>NaN</td>\n",
              "      <td>0</td>\n",
              "      <td>1</td>\n",
              "      <td>0</td>\n",
              "      <td>https://x.com/_rybh/status/1873747635750011333</td>\n",
              "      <td>3.181792e+09</td>\n",
              "      <td>_rybh</td>\n",
              "    </tr>\n",
              "  </tbody>\n",
              "</table>\n",
              "</div>\n",
              "    <div class=\"colab-df-buttons\">\n",
              "\n",
              "  <div class=\"colab-df-container\">\n",
              "    <button class=\"colab-df-convert\" onclick=\"convertToInteractive('df-6f69a589-36e4-4582-8049-f4b90bfa1359')\"\n",
              "            title=\"Convert this dataframe to an interactive table.\"\n",
              "            style=\"display:none;\">\n",
              "\n",
              "  <svg xmlns=\"http://www.w3.org/2000/svg\" height=\"24px\" viewBox=\"0 -960 960 960\">\n",
              "    <path d=\"M120-120v-720h720v720H120Zm60-500h600v-160H180v160Zm220 220h160v-160H400v160Zm0 220h160v-160H400v160ZM180-400h160v-160H180v160Zm440 0h160v-160H620v160ZM180-180h160v-160H180v160Zm440 0h160v-160H620v160Z\"/>\n",
              "  </svg>\n",
              "    </button>\n",
              "\n",
              "  <style>\n",
              "    .colab-df-container {\n",
              "      display:flex;\n",
              "      gap: 12px;\n",
              "    }\n",
              "\n",
              "    .colab-df-convert {\n",
              "      background-color: #E8F0FE;\n",
              "      border: none;\n",
              "      border-radius: 50%;\n",
              "      cursor: pointer;\n",
              "      display: none;\n",
              "      fill: #1967D2;\n",
              "      height: 32px;\n",
              "      padding: 0 0 0 0;\n",
              "      width: 32px;\n",
              "    }\n",
              "\n",
              "    .colab-df-convert:hover {\n",
              "      background-color: #E2EBFA;\n",
              "      box-shadow: 0px 1px 2px rgba(60, 64, 67, 0.3), 0px 1px 3px 1px rgba(60, 64, 67, 0.15);\n",
              "      fill: #174EA6;\n",
              "    }\n",
              "\n",
              "    .colab-df-buttons div {\n",
              "      margin-bottom: 4px;\n",
              "    }\n",
              "\n",
              "    [theme=dark] .colab-df-convert {\n",
              "      background-color: #3B4455;\n",
              "      fill: #D2E3FC;\n",
              "    }\n",
              "\n",
              "    [theme=dark] .colab-df-convert:hover {\n",
              "      background-color: #434B5C;\n",
              "      box-shadow: 0px 1px 3px 1px rgba(0, 0, 0, 0.15);\n",
              "      filter: drop-shadow(0px 1px 2px rgba(0, 0, 0, 0.3));\n",
              "      fill: #FFFFFF;\n",
              "    }\n",
              "  </style>\n",
              "\n",
              "    <script>\n",
              "      const buttonEl =\n",
              "        document.querySelector('#df-6f69a589-36e4-4582-8049-f4b90bfa1359 button.colab-df-convert');\n",
              "      buttonEl.style.display =\n",
              "        google.colab.kernel.accessAllowed ? 'block' : 'none';\n",
              "\n",
              "      async function convertToInteractive(key) {\n",
              "        const element = document.querySelector('#df-6f69a589-36e4-4582-8049-f4b90bfa1359');\n",
              "        const dataTable =\n",
              "          await google.colab.kernel.invokeFunction('convertToInteractive',\n",
              "                                                    [key], {});\n",
              "        if (!dataTable) return;\n",
              "\n",
              "        const docLinkHtml = 'Like what you see? Visit the ' +\n",
              "          '<a target=\"_blank\" href=https://colab.research.google.com/notebooks/data_table.ipynb>data table notebook</a>'\n",
              "          + ' to learn more about interactive tables.';\n",
              "        element.innerHTML = '';\n",
              "        dataTable['output_type'] = 'display_data';\n",
              "        await google.colab.output.renderOutput(dataTable, element);\n",
              "        const docLink = document.createElement('div');\n",
              "        docLink.innerHTML = docLinkHtml;\n",
              "        element.appendChild(docLink);\n",
              "      }\n",
              "    </script>\n",
              "  </div>\n",
              "\n",
              "\n",
              "<div id=\"df-a7deaf90-332b-490b-9e88-c5ec0b61fd87\">\n",
              "  <button class=\"colab-df-quickchart\" onclick=\"quickchart('df-a7deaf90-332b-490b-9e88-c5ec0b61fd87')\"\n",
              "            title=\"Suggest charts\"\n",
              "            style=\"display:none;\">\n",
              "\n",
              "<svg xmlns=\"http://www.w3.org/2000/svg\" height=\"24px\"viewBox=\"0 0 24 24\"\n",
              "     width=\"24px\">\n",
              "    <g>\n",
              "        <path d=\"M19 3H5c-1.1 0-2 .9-2 2v14c0 1.1.9 2 2 2h14c1.1 0 2-.9 2-2V5c0-1.1-.9-2-2-2zM9 17H7v-7h2v7zm4 0h-2V7h2v10zm4 0h-2v-4h2v4z\"/>\n",
              "    </g>\n",
              "</svg>\n",
              "  </button>\n",
              "\n",
              "<style>\n",
              "  .colab-df-quickchart {\n",
              "      --bg-color: #E8F0FE;\n",
              "      --fill-color: #1967D2;\n",
              "      --hover-bg-color: #E2EBFA;\n",
              "      --hover-fill-color: #174EA6;\n",
              "      --disabled-fill-color: #AAA;\n",
              "      --disabled-bg-color: #DDD;\n",
              "  }\n",
              "\n",
              "  [theme=dark] .colab-df-quickchart {\n",
              "      --bg-color: #3B4455;\n",
              "      --fill-color: #D2E3FC;\n",
              "      --hover-bg-color: #434B5C;\n",
              "      --hover-fill-color: #FFFFFF;\n",
              "      --disabled-bg-color: #3B4455;\n",
              "      --disabled-fill-color: #666;\n",
              "  }\n",
              "\n",
              "  .colab-df-quickchart {\n",
              "    background-color: var(--bg-color);\n",
              "    border: none;\n",
              "    border-radius: 50%;\n",
              "    cursor: pointer;\n",
              "    display: none;\n",
              "    fill: var(--fill-color);\n",
              "    height: 32px;\n",
              "    padding: 0;\n",
              "    width: 32px;\n",
              "  }\n",
              "\n",
              "  .colab-df-quickchart:hover {\n",
              "    background-color: var(--hover-bg-color);\n",
              "    box-shadow: 0 1px 2px rgba(60, 64, 67, 0.3), 0 1px 3px 1px rgba(60, 64, 67, 0.15);\n",
              "    fill: var(--button-hover-fill-color);\n",
              "  }\n",
              "\n",
              "  .colab-df-quickchart-complete:disabled,\n",
              "  .colab-df-quickchart-complete:disabled:hover {\n",
              "    background-color: var(--disabled-bg-color);\n",
              "    fill: var(--disabled-fill-color);\n",
              "    box-shadow: none;\n",
              "  }\n",
              "\n",
              "  .colab-df-spinner {\n",
              "    border: 2px solid var(--fill-color);\n",
              "    border-color: transparent;\n",
              "    border-bottom-color: var(--fill-color);\n",
              "    animation:\n",
              "      spin 1s steps(1) infinite;\n",
              "  }\n",
              "\n",
              "  @keyframes spin {\n",
              "    0% {\n",
              "      border-color: transparent;\n",
              "      border-bottom-color: var(--fill-color);\n",
              "      border-left-color: var(--fill-color);\n",
              "    }\n",
              "    20% {\n",
              "      border-color: transparent;\n",
              "      border-left-color: var(--fill-color);\n",
              "      border-top-color: var(--fill-color);\n",
              "    }\n",
              "    30% {\n",
              "      border-color: transparent;\n",
              "      border-left-color: var(--fill-color);\n",
              "      border-top-color: var(--fill-color);\n",
              "      border-right-color: var(--fill-color);\n",
              "    }\n",
              "    40% {\n",
              "      border-color: transparent;\n",
              "      border-right-color: var(--fill-color);\n",
              "      border-top-color: var(--fill-color);\n",
              "    }\n",
              "    60% {\n",
              "      border-color: transparent;\n",
              "      border-right-color: var(--fill-color);\n",
              "    }\n",
              "    80% {\n",
              "      border-color: transparent;\n",
              "      border-right-color: var(--fill-color);\n",
              "      border-bottom-color: var(--fill-color);\n",
              "    }\n",
              "    90% {\n",
              "      border-color: transparent;\n",
              "      border-bottom-color: var(--fill-color);\n",
              "    }\n",
              "  }\n",
              "</style>\n",
              "\n",
              "  <script>\n",
              "    async function quickchart(key) {\n",
              "      const quickchartButtonEl =\n",
              "        document.querySelector('#' + key + ' button');\n",
              "      quickchartButtonEl.disabled = true;  // To prevent multiple clicks.\n",
              "      quickchartButtonEl.classList.add('colab-df-spinner');\n",
              "      try {\n",
              "        const charts = await google.colab.kernel.invokeFunction(\n",
              "            'suggestCharts', [key], {});\n",
              "      } catch (error) {\n",
              "        console.error('Error during call to suggestCharts:', error);\n",
              "      }\n",
              "      quickchartButtonEl.classList.remove('colab-df-spinner');\n",
              "      quickchartButtonEl.classList.add('colab-df-quickchart-complete');\n",
              "    }\n",
              "    (() => {\n",
              "      let quickchartButtonEl =\n",
              "        document.querySelector('#df-a7deaf90-332b-490b-9e88-c5ec0b61fd87 button');\n",
              "      quickchartButtonEl.style.display =\n",
              "        google.colab.kernel.accessAllowed ? 'block' : 'none';\n",
              "    })();\n",
              "  </script>\n",
              "</div>\n",
              "\n",
              "    </div>\n",
              "  </div>\n"
            ],
            "application/vnd.google.colaboratory.intrinsic+json": {
              "type": "dataframe",
              "summary": "{\n  \"name\": \"# display(df)\",\n  \"rows\": 5,\n  \"fields\": [\n    {\n      \"column\": \"conversation_id_str\",\n      \"properties\": {\n        \"dtype\": \"number\",\n        \"std\": 85029406677925.25,\n        \"min\": 1.87363e+18,\n        \"max\": 1.87381e+18,\n        \"num_unique_values\": 4,\n        \"samples\": [\n          1.87364e+18,\n          1.87363e+18,\n          1.87381e+18\n        ],\n        \"semantic_type\": \"\",\n        \"description\": \"\"\n      }\n    },\n    {\n      \"column\": \"created_at\",\n      \"properties\": {\n        \"dtype\": \"object\",\n        \"num_unique_values\": 5,\n        \"samples\": [\n          \"Mon Dec 30 17:47:27 +0000 2024\",\n          \"Mon Dec 30 15:07:03 +0000 2024\",\n          \"Mon Dec 30 15:52:30 +0000 2024\"\n        ],\n        \"semantic_type\": \"\",\n        \"description\": \"\"\n      }\n    },\n    {\n      \"column\": \"favorite_count\",\n      \"properties\": {\n        \"dtype\": \"number\",\n        \"std\": 0,\n        \"min\": 0,\n        \"max\": 1,\n        \"num_unique_values\": 2,\n        \"samples\": [\n          1,\n          0\n        ],\n        \"semantic_type\": \"\",\n        \"description\": \"\"\n      }\n    },\n    {\n      \"column\": \"full_text\",\n      \"properties\": {\n        \"dtype\": \"string\",\n        \"num_unique_values\": 5,\n        \"samples\": [\n          \"@RFritzy_JKT48 Kalo oshinya JOT masih ga apa apa kan nder? Hehe https://t.co/542tKsbxpj\",\n          \"@gagitugie___ @Maffi_f07 @Auwia_JKT48 Menunjukan kalo proses yang katanya ketat yang katanya 8rb orang daftar yang keterima cuma 9 dan udah melalui seleksi berat. Nyatanya? Perempuan yang suka di lecehkan secara verbal bisa masuk JKT. Secara gak langsung ngasih masukan ke jot kalo seleksi mereka AMPAS!\"\n        ],\n        \"semantic_type\": \"\",\n        \"description\": \"\"\n      }\n    },\n    {\n      \"column\": \"id_str\",\n      \"properties\": {\n        \"dtype\": \"number\",\n        \"std\": 26832815729997.477,\n        \"min\": 1.87375e+18,\n        \"max\": 1.87381e+18,\n        \"num_unique_values\": 4,\n        \"samples\": [\n          1.87379e+18,\n          1.87375e+18\n        ],\n        \"semantic_type\": \"\",\n        \"description\": \"\"\n      }\n    },\n    {\n      \"column\": \"image_url\",\n      \"properties\": {\n        \"dtype\": \"category\",\n        \"num_unique_values\": 1,\n        \"samples\": [\n          \"https://pbs.twimg.com/media/GgEIPq1bYAExxgW.jpg\"\n        ],\n        \"semantic_type\": \"\",\n        \"description\": \"\"\n      }\n    },\n    {\n      \"column\": \"in_reply_to_screen_name\",\n      \"properties\": {\n        \"dtype\": \"string\",\n        \"num_unique_values\": 3,\n        \"samples\": [\n          \"RFritzy_JKT48\"\n        ],\n        \"semantic_type\": \"\",\n        \"description\": \"\"\n      }\n    },\n    {\n      \"column\": \"lang\",\n      \"properties\": {\n        \"dtype\": \"category\",\n        \"num_unique_values\": 1,\n        \"samples\": [\n          \"in\"\n        ],\n        \"semantic_type\": \"\",\n        \"description\": \"\"\n      }\n    },\n    {\n      \"column\": \"location\",\n      \"properties\": {\n        \"dtype\": \"category\",\n        \"num_unique_values\": 2,\n        \"samples\": [\n          \"Salakanagara\"\n        ],\n        \"semantic_type\": \"\",\n        \"description\": \"\"\n      }\n    },\n    {\n      \"column\": \"quote_count\",\n      \"properties\": {\n        \"dtype\": \"number\",\n        \"std\": 0,\n        \"min\": 0,\n        \"max\": 0,\n        \"num_unique_values\": 1,\n        \"samples\": [\n          0\n        ],\n        \"semantic_type\": \"\",\n        \"description\": \"\"\n      }\n    },\n    {\n      \"column\": \"reply_count\",\n      \"properties\": {\n        \"dtype\": \"number\",\n        \"std\": 0,\n        \"min\": 0,\n        \"max\": 1,\n        \"num_unique_values\": 2,\n        \"samples\": [\n          1\n        ],\n        \"semantic_type\": \"\",\n        \"description\": \"\"\n      }\n    },\n    {\n      \"column\": \"retweet_count\",\n      \"properties\": {\n        \"dtype\": \"number\",\n        \"std\": 0,\n        \"min\": 0,\n        \"max\": 0,\n        \"num_unique_values\": 1,\n        \"samples\": [\n          0\n        ],\n        \"semantic_type\": \"\",\n        \"description\": \"\"\n      }\n    },\n    {\n      \"column\": \"tweet_url\",\n      \"properties\": {\n        \"dtype\": \"string\",\n        \"num_unique_values\": 5,\n        \"samples\": [\n          \"https://x.com/Anggithaadr/status/1873788000431464882\"\n        ],\n        \"semantic_type\": \"\",\n        \"description\": \"\"\n      }\n    },\n    {\n      \"column\": \"user_id_str\",\n      \"properties\": {\n        \"dtype\": \"number\",\n        \"std\": 9.019327885926926e+17,\n        \"min\": 2429397041.0,\n        \"max\": 1.81849e+18,\n        \"num_unique_values\": 5,\n        \"samples\": [\n          8.19881e+17\n        ],\n        \"semantic_type\": \"\",\n        \"description\": \"\"\n      }\n    },\n    {\n      \"column\": \"username\",\n      \"properties\": {\n        \"dtype\": \"string\",\n        \"num_unique_values\": 5,\n        \"samples\": [\n          \"Anggithaadr\"\n        ],\n        \"semantic_type\": \"\",\n        \"description\": \"\"\n      }\n    }\n  ]\n}"
            }
          },
          "metadata": {},
          "execution_count": 20
        }
      ],
      "source": [
        "# load data\n",
        "files = '/content/sample_data/Gabungan sample crawling JOT jkt48.csv'\n",
        "df = pd.read_csv(files)\n",
        "df.head()\n",
        "# display(df)"
      ]
    },
    {
      "cell_type": "code",
      "source": [
        "df_text = df['full_text']\n",
        "df_text.head()"
      ],
      "metadata": {
        "colab": {
          "base_uri": "https://localhost:8080/",
          "height": 241
        },
        "id": "xvu4DGJkdfxw",
        "outputId": "41df6943-18ed-4a25-eab1-0cd1e103d30e"
      },
      "execution_count": 25,
      "outputs": [
        {
          "output_type": "execute_result",
          "data": {
            "text/plain": [
              "0    Om JOT Liat deh Si up girls ngajak @RFritzy_JK...\n",
              "1    @RFritzy_JKT48 Kalo oshinya JOT masih ga apa a...\n",
              "2    harapan untuk jkt48 yaitu membuat para jot sad...\n",
              "3    @_rybh @Maffi_f07 @Auwia_JKT48 Itu urusan inte...\n",
              "4    @gagitugie___ @Maffi_f07 @Auwia_JKT48 Menunjuk...\n",
              "Name: full_text, dtype: object"
            ],
            "text/html": [
              "<div>\n",
              "<style scoped>\n",
              "    .dataframe tbody tr th:only-of-type {\n",
              "        vertical-align: middle;\n",
              "    }\n",
              "\n",
              "    .dataframe tbody tr th {\n",
              "        vertical-align: top;\n",
              "    }\n",
              "\n",
              "    .dataframe thead th {\n",
              "        text-align: right;\n",
              "    }\n",
              "</style>\n",
              "<table border=\"1\" class=\"dataframe\">\n",
              "  <thead>\n",
              "    <tr style=\"text-align: right;\">\n",
              "      <th></th>\n",
              "      <th>full_text</th>\n",
              "    </tr>\n",
              "  </thead>\n",
              "  <tbody>\n",
              "    <tr>\n",
              "      <th>0</th>\n",
              "      <td>Om JOT Liat deh Si up girls ngajak @RFritzy_JK...</td>\n",
              "    </tr>\n",
              "    <tr>\n",
              "      <th>1</th>\n",
              "      <td>@RFritzy_JKT48 Kalo oshinya JOT masih ga apa a...</td>\n",
              "    </tr>\n",
              "    <tr>\n",
              "      <th>2</th>\n",
              "      <td>harapan untuk jkt48 yaitu membuat para jot sad...</td>\n",
              "    </tr>\n",
              "    <tr>\n",
              "      <th>3</th>\n",
              "      <td>@_rybh @Maffi_f07 @Auwia_JKT48 Itu urusan inte...</td>\n",
              "    </tr>\n",
              "    <tr>\n",
              "      <th>4</th>\n",
              "      <td>@gagitugie___ @Maffi_f07 @Auwia_JKT48 Menunjuk...</td>\n",
              "    </tr>\n",
              "  </tbody>\n",
              "</table>\n",
              "</div><br><label><b>dtype:</b> object</label>"
            ]
          },
          "metadata": {},
          "execution_count": 25
        }
      ]
    },
    {
      "cell_type": "markdown",
      "metadata": {
        "id": "TJjN--Z1Vrsr"
      },
      "source": [
        "PRE-PROSESSING DATA"
      ]
    },
    {
      "cell_type": "code",
      "execution_count": 26,
      "metadata": {
        "id": "f3WX4jentggg",
        "colab": {
          "base_uri": "https://localhost:8080/",
          "height": 459
        },
        "outputId": "ff384c37-a969-4900-bcce-8a067f545159"
      },
      "outputs": [
        {
          "output_type": "display_data",
          "data": {
            "text/plain": [
              "0       om jot liat deh si up girls ngajak @rfritzy_jk...\n",
              "1       @rfritzy_jkt48 kalo oshinya jot masih ga apa a...\n",
              "2       harapan untuk jkt48 yaitu membuat para jot sad...\n",
              "3       @_rybh @maffi_f07 @auwia_jkt48 itu urusan inte...\n",
              "4       @gagitugie___ @maffi_f07 @auwia_jkt48 menunjuk...\n",
              "                              ...                        \n",
              "6211    lahkk makasih om jot see u @greesel_jkt48 http...\n",
              "6212     @jambubiji08 @gracie_jkt48 harusnya faham jot om\n",
              "6213    @greseella @greesel_jkt48 udah kena bedak jot ...\n",
              "6214    @naim_pasha @officialjkt48 @y_chikajkt48 @f_fe...\n",
              "6215    @vvotanet kalau saya terpilih jadi jot harga v...\n",
              "Name: full_text, Length: 6216, dtype: object"
            ],
            "text/html": [
              "<div>\n",
              "<style scoped>\n",
              "    .dataframe tbody tr th:only-of-type {\n",
              "        vertical-align: middle;\n",
              "    }\n",
              "\n",
              "    .dataframe tbody tr th {\n",
              "        vertical-align: top;\n",
              "    }\n",
              "\n",
              "    .dataframe thead th {\n",
              "        text-align: right;\n",
              "    }\n",
              "</style>\n",
              "<table border=\"1\" class=\"dataframe\">\n",
              "  <thead>\n",
              "    <tr style=\"text-align: right;\">\n",
              "      <th></th>\n",
              "      <th>full_text</th>\n",
              "    </tr>\n",
              "  </thead>\n",
              "  <tbody>\n",
              "    <tr>\n",
              "      <th>0</th>\n",
              "      <td>om jot liat deh si up girls ngajak @rfritzy_jk...</td>\n",
              "    </tr>\n",
              "    <tr>\n",
              "      <th>1</th>\n",
              "      <td>@rfritzy_jkt48 kalo oshinya jot masih ga apa a...</td>\n",
              "    </tr>\n",
              "    <tr>\n",
              "      <th>2</th>\n",
              "      <td>harapan untuk jkt48 yaitu membuat para jot sad...</td>\n",
              "    </tr>\n",
              "    <tr>\n",
              "      <th>3</th>\n",
              "      <td>@_rybh @maffi_f07 @auwia_jkt48 itu urusan inte...</td>\n",
              "    </tr>\n",
              "    <tr>\n",
              "      <th>4</th>\n",
              "      <td>@gagitugie___ @maffi_f07 @auwia_jkt48 menunjuk...</td>\n",
              "    </tr>\n",
              "    <tr>\n",
              "      <th>...</th>\n",
              "      <td>...</td>\n",
              "    </tr>\n",
              "    <tr>\n",
              "      <th>6211</th>\n",
              "      <td>lahkk makasih om jot see u @greesel_jkt48 http...</td>\n",
              "    </tr>\n",
              "    <tr>\n",
              "      <th>6212</th>\n",
              "      <td>@jambubiji08 @gracie_jkt48 harusnya faham jot om</td>\n",
              "    </tr>\n",
              "    <tr>\n",
              "      <th>6213</th>\n",
              "      <td>@greseella @greesel_jkt48 udah kena bedak jot ...</td>\n",
              "    </tr>\n",
              "    <tr>\n",
              "      <th>6214</th>\n",
              "      <td>@naim_pasha @officialjkt48 @y_chikajkt48 @f_fe...</td>\n",
              "    </tr>\n",
              "    <tr>\n",
              "      <th>6215</th>\n",
              "      <td>@vvotanet kalau saya terpilih jadi jot harga v...</td>\n",
              "    </tr>\n",
              "  </tbody>\n",
              "</table>\n",
              "<p>6216 rows × 1 columns</p>\n",
              "</div><br><label><b>dtype:</b> object</label>"
            ]
          },
          "metadata": {}
        }
      ],
      "source": [
        "# case folding\n",
        "lowercase = df_text.str.lower()\n",
        "display(lowercase)"
      ]
    },
    {
      "cell_type": "code",
      "execution_count": 27,
      "metadata": {
        "id": "TV26FbRfeD2U",
        "colab": {
          "base_uri": "https://localhost:8080/",
          "height": 459
        },
        "outputId": "bc88ceed-5435-4ac7-e507-f1e068729030"
      },
      "outputs": [
        {
          "output_type": "display_data",
          "data": {
            "text/plain": [
              "0       Om JOT Liat deh Si up girls ngajak RFritzy_JKT...\n",
              "1       RFritzy_JKT Kalo oshinya JOT masih ga apa apa ...\n",
              "2       harapan untuk jkt yaitu membuat para jot sadar...\n",
              "3       _rybh Maffi_f Auwia_JKT Itu urusan internal jo...\n",
              "4       gagitugie___ Maffi_f Auwia_JKT Menunjukan kalo...\n",
              "                              ...                        \n",
              "6211               Lahkk makasih om jot See u Greesel_JKT\n",
              "6212           JambuBiji Gracie_JKT Harusnya faham JOT om\n",
              "6213    greseella Greesel_JKT Udah kena bedak JOT aja nih\n",
              "6214    naim_pasha officialJKT Y_ChikaJKT F_FeniJKT st...\n",
              "6215    vvotanet Kalau saya terpilih jadi jot harga vc...\n",
              "Name: full_text, Length: 6216, dtype: object"
            ],
            "text/html": [
              "<div>\n",
              "<style scoped>\n",
              "    .dataframe tbody tr th:only-of-type {\n",
              "        vertical-align: middle;\n",
              "    }\n",
              "\n",
              "    .dataframe tbody tr th {\n",
              "        vertical-align: top;\n",
              "    }\n",
              "\n",
              "    .dataframe thead th {\n",
              "        text-align: right;\n",
              "    }\n",
              "</style>\n",
              "<table border=\"1\" class=\"dataframe\">\n",
              "  <thead>\n",
              "    <tr style=\"text-align: right;\">\n",
              "      <th></th>\n",
              "      <th>full_text</th>\n",
              "    </tr>\n",
              "  </thead>\n",
              "  <tbody>\n",
              "    <tr>\n",
              "      <th>0</th>\n",
              "      <td>Om JOT Liat deh Si up girls ngajak RFritzy_JKT...</td>\n",
              "    </tr>\n",
              "    <tr>\n",
              "      <th>1</th>\n",
              "      <td>RFritzy_JKT Kalo oshinya JOT masih ga apa apa ...</td>\n",
              "    </tr>\n",
              "    <tr>\n",
              "      <th>2</th>\n",
              "      <td>harapan untuk jkt yaitu membuat para jot sadar...</td>\n",
              "    </tr>\n",
              "    <tr>\n",
              "      <th>3</th>\n",
              "      <td>_rybh Maffi_f Auwia_JKT Itu urusan internal jo...</td>\n",
              "    </tr>\n",
              "    <tr>\n",
              "      <th>4</th>\n",
              "      <td>gagitugie___ Maffi_f Auwia_JKT Menunjukan kalo...</td>\n",
              "    </tr>\n",
              "    <tr>\n",
              "      <th>...</th>\n",
              "      <td>...</td>\n",
              "    </tr>\n",
              "    <tr>\n",
              "      <th>6211</th>\n",
              "      <td>Lahkk makasih om jot See u Greesel_JKT</td>\n",
              "    </tr>\n",
              "    <tr>\n",
              "      <th>6212</th>\n",
              "      <td>JambuBiji Gracie_JKT Harusnya faham JOT om</td>\n",
              "    </tr>\n",
              "    <tr>\n",
              "      <th>6213</th>\n",
              "      <td>greseella Greesel_JKT Udah kena bedak JOT aja nih</td>\n",
              "    </tr>\n",
              "    <tr>\n",
              "      <th>6214</th>\n",
              "      <td>naim_pasha officialJKT Y_ChikaJKT F_FeniJKT st...</td>\n",
              "    </tr>\n",
              "    <tr>\n",
              "      <th>6215</th>\n",
              "      <td>vvotanet Kalau saya terpilih jadi jot harga vc...</td>\n",
              "    </tr>\n",
              "  </tbody>\n",
              "</table>\n",
              "<p>6216 rows × 1 columns</p>\n",
              "</div><br><label><b>dtype:</b> object</label>"
            ]
          },
          "metadata": {}
        }
      ],
      "source": [
        "#cleaning text\n",
        "def clean_text(text):\n",
        "    text = re.sub('http\\S+', '', text)\n",
        "    text = re.sub( 'www\\s', '', text)\n",
        "    text = re.sub('@', '', text)\n",
        "    text = re.sub('\\d+', '', text)\n",
        "    text = re.sub('\\s+', ' ', text)\n",
        "    text = text.strip()\n",
        "    return text\n",
        "\n",
        "df_text = df_text.apply(clean_text)\n",
        "display(df_text)"
      ]
    },
    {
      "cell_type": "code",
      "execution_count": 28,
      "metadata": {
        "id": "N0ffxlHReD_w"
      },
      "outputs": [],
      "source": [
        "#tokenization"
      ]
    },
    {
      "cell_type": "code",
      "execution_count": null,
      "metadata": {
        "id": "OVabTjVveEHy"
      },
      "outputs": [],
      "source": [
        "#stopwords removal"
      ]
    },
    {
      "cell_type": "code",
      "execution_count": null,
      "metadata": {
        "id": "DPLws6p9eEPc"
      },
      "outputs": [],
      "source": [
        "#stemming"
      ]
    },
    {
      "cell_type": "markdown",
      "metadata": {
        "id": "trhDi7UleHRF"
      },
      "source": [
        "PELABELAN DATA"
      ]
    },
    {
      "cell_type": "code",
      "execution_count": null,
      "metadata": {
        "id": "vgRXomdpL6oo"
      },
      "outputs": [],
      "source": [
        "# pelabelan data\n"
      ]
    },
    {
      "cell_type": "code",
      "execution_count": null,
      "metadata": {
        "id": "rk0xE65YNpmw"
      },
      "outputs": [],
      "source": [
        "# modelisasi"
      ]
    },
    {
      "cell_type": "code",
      "execution_count": null,
      "metadata": {
        "id": "w2zmlXt7NsVt"
      },
      "outputs": [],
      "source": [
        "# extrasi fitur"
      ]
    },
    {
      "cell_type": "code",
      "execution_count": null,
      "metadata": {
        "id": "WwdndzUJNukj"
      },
      "outputs": [],
      "source": [
        "# klasifikasi sentimen"
      ]
    },
    {
      "cell_type": "code",
      "execution_count": null,
      "metadata": {
        "id": "S92cEhYfRiMG"
      },
      "outputs": [],
      "source": [
        "# evaluasi hasil\n"
      ]
    },
    {
      "cell_type": "code",
      "execution_count": null,
      "metadata": {
        "id": "-2IHl9ZpRkUx"
      },
      "outputs": [],
      "source": [
        "# visualisasi dan hasilnya"
      ]
    }
  ],
  "metadata": {
    "colab": {
      "provenance": [],
      "authorship_tag": "ABX9TyOLqntLNTSIubK+D6EmfpQb",
      "include_colab_link": true
    },
    "kernelspec": {
      "display_name": "Python 3",
      "name": "python3"
    },
    "language_info": {
      "name": "python"
    }
  },
  "nbformat": 4,
  "nbformat_minor": 0
}